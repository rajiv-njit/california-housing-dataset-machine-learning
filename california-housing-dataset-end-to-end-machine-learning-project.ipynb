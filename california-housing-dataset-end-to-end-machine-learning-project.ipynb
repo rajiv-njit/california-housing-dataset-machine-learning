{
 "cells": [
  {
   "cell_type": "markdown",
   "metadata": {},
   "source": [
    "### 1. Import the necessary libraries"
   ]
  },
  {
   "cell_type": "code",
   "execution_count": 1,
   "metadata": {},
   "outputs": [],
   "source": [
    "import numpy as np\n",
    "import pandas as pd\n",
    "import random\n",
    "import matplotlib.pyplot as plt\n",
    "import seaborn as sns\n",
    "from sklearn.model_selection import train_test_split\n",
    "from sklearn.tree import DecisionTreeClassifier\n",
    "from sklearn.ensemble import RandomForestClassifier\n",
    "from sklearn.preprocessing import OneHotEncoder"
   ]
  },
  {
   "cell_type": "markdown",
   "metadata": {},
   "source": [
    "### 2. Load the data"
   ]
  },
  {
   "cell_type": "code",
   "execution_count": 2,
   "metadata": {},
   "outputs": [
    {
     "name": "stdout",
     "output_type": "stream",
     "text": [
      "<class 'pandas.core.frame.DataFrame'>\n",
      "RangeIndex: 20640 entries, 0 to 20639\n",
      "Data columns (total 10 columns):\n",
      " #   Column              Non-Null Count  Dtype  \n",
      "---  ------              --------------  -----  \n",
      " 0   longitude           20640 non-null  float64\n",
      " 1   latitude            20640 non-null  float64\n",
      " 2   housing_median_age  20640 non-null  float64\n",
      " 3   total_rooms         20640 non-null  float64\n",
      " 4   total_bedrooms      20433 non-null  float64\n",
      " 5   population          20640 non-null  float64\n",
      " 6   households          20640 non-null  float64\n",
      " 7   median_income       20640 non-null  float64\n",
      " 8   median_house_value  20640 non-null  float64\n",
      " 9   ocean_proximity     20640 non-null  object \n",
      "dtypes: float64(9), object(1)\n",
      "memory usage: 1.6+ MB\n",
      "None\n"
     ]
    }
   ],
   "source": [
    "#Load the data\n",
    "california_housing_prices_df = pd.read_csv('dataset/housing.csv')\n",
    "\n",
    "# Print the data structure\n",
    "print(california_housing_prices_df.info())"
   ]
  },
  {
   "cell_type": "markdown",
   "metadata": {},
   "source": [
    "### 3. Explore the data"
   ]
  },
  {
   "cell_type": "code",
   "execution_count": 3,
   "metadata": {},
   "outputs": [
    {
     "data": {
      "text/plain": [
       "(20640, 10)"
      ]
     },
     "execution_count": 3,
     "metadata": {},
     "output_type": "execute_result"
    }
   ],
   "source": [
    "california_housing_prices_df.shape"
   ]
  },
  {
   "cell_type": "code",
   "execution_count": 4,
   "metadata": {},
   "outputs": [
    {
     "name": "stdout",
     "output_type": "stream",
     "text": [
      "The DataFrame has 10 columns and 20640 rows.\n"
     ]
    }
   ],
   "source": [
    "# Get the number of columns and rows in the DataFrame\n",
    "num_columns = len(california_housing_prices_df.columns)\n",
    "num_rows = len(california_housing_prices_df.index)\n",
    "\n",
    "# Print the number of columns and rows\n",
    "print(\"The DataFrame has {} columns and {} rows.\".format(num_columns, num_rows))"
   ]
  },
  {
   "cell_type": "code",
   "execution_count": 5,
   "metadata": {},
   "outputs": [
    {
     "data": {
      "text/html": [
       "<div>\n",
       "<style scoped>\n",
       "    .dataframe tbody tr th:only-of-type {\n",
       "        vertical-align: middle;\n",
       "    }\n",
       "\n",
       "    .dataframe tbody tr th {\n",
       "        vertical-align: top;\n",
       "    }\n",
       "\n",
       "    .dataframe thead th {\n",
       "        text-align: right;\n",
       "    }\n",
       "</style>\n",
       "<table border=\"1\" class=\"dataframe\">\n",
       "  <thead>\n",
       "    <tr style=\"text-align: right;\">\n",
       "      <th></th>\n",
       "      <th>longitude</th>\n",
       "      <th>latitude</th>\n",
       "      <th>housing_median_age</th>\n",
       "      <th>total_rooms</th>\n",
       "      <th>total_bedrooms</th>\n",
       "      <th>population</th>\n",
       "      <th>households</th>\n",
       "      <th>median_income</th>\n",
       "      <th>median_house_value</th>\n",
       "      <th>ocean_proximity</th>\n",
       "    </tr>\n",
       "  </thead>\n",
       "  <tbody>\n",
       "    <tr>\n",
       "      <th>0</th>\n",
       "      <td>-122.23</td>\n",
       "      <td>37.88</td>\n",
       "      <td>41.0</td>\n",
       "      <td>880.0</td>\n",
       "      <td>129.0</td>\n",
       "      <td>322.0</td>\n",
       "      <td>126.0</td>\n",
       "      <td>8.3252</td>\n",
       "      <td>452600.0</td>\n",
       "      <td>NEAR BAY</td>\n",
       "    </tr>\n",
       "    <tr>\n",
       "      <th>1</th>\n",
       "      <td>-122.22</td>\n",
       "      <td>37.86</td>\n",
       "      <td>21.0</td>\n",
       "      <td>7099.0</td>\n",
       "      <td>1106.0</td>\n",
       "      <td>2401.0</td>\n",
       "      <td>1138.0</td>\n",
       "      <td>8.3014</td>\n",
       "      <td>358500.0</td>\n",
       "      <td>NEAR BAY</td>\n",
       "    </tr>\n",
       "    <tr>\n",
       "      <th>2</th>\n",
       "      <td>-122.24</td>\n",
       "      <td>37.85</td>\n",
       "      <td>52.0</td>\n",
       "      <td>1467.0</td>\n",
       "      <td>190.0</td>\n",
       "      <td>496.0</td>\n",
       "      <td>177.0</td>\n",
       "      <td>7.2574</td>\n",
       "      <td>352100.0</td>\n",
       "      <td>NEAR BAY</td>\n",
       "    </tr>\n",
       "    <tr>\n",
       "      <th>3</th>\n",
       "      <td>-122.25</td>\n",
       "      <td>37.85</td>\n",
       "      <td>52.0</td>\n",
       "      <td>1274.0</td>\n",
       "      <td>235.0</td>\n",
       "      <td>558.0</td>\n",
       "      <td>219.0</td>\n",
       "      <td>5.6431</td>\n",
       "      <td>341300.0</td>\n",
       "      <td>NEAR BAY</td>\n",
       "    </tr>\n",
       "    <tr>\n",
       "      <th>4</th>\n",
       "      <td>-122.25</td>\n",
       "      <td>37.85</td>\n",
       "      <td>52.0</td>\n",
       "      <td>1627.0</td>\n",
       "      <td>280.0</td>\n",
       "      <td>565.0</td>\n",
       "      <td>259.0</td>\n",
       "      <td>3.8462</td>\n",
       "      <td>342200.0</td>\n",
       "      <td>NEAR BAY</td>\n",
       "    </tr>\n",
       "  </tbody>\n",
       "</table>\n",
       "</div>"
      ],
      "text/plain": [
       "   longitude  latitude  housing_median_age  total_rooms  total_bedrooms  \\\n",
       "0    -122.23     37.88                41.0        880.0           129.0   \n",
       "1    -122.22     37.86                21.0       7099.0          1106.0   \n",
       "2    -122.24     37.85                52.0       1467.0           190.0   \n",
       "3    -122.25     37.85                52.0       1274.0           235.0   \n",
       "4    -122.25     37.85                52.0       1627.0           280.0   \n",
       "\n",
       "   population  households  median_income  median_house_value ocean_proximity  \n",
       "0       322.0       126.0         8.3252            452600.0        NEAR BAY  \n",
       "1      2401.0      1138.0         8.3014            358500.0        NEAR BAY  \n",
       "2       496.0       177.0         7.2574            352100.0        NEAR BAY  \n",
       "3       558.0       219.0         5.6431            341300.0        NEAR BAY  \n",
       "4       565.0       259.0         3.8462            342200.0        NEAR BAY  "
      ]
     },
     "execution_count": 5,
     "metadata": {},
     "output_type": "execute_result"
    }
   ],
   "source": [
    "# View the first 5 rows of the DataFrame\n",
    "california_housing_prices_df.head()"
   ]
  },
  {
   "cell_type": "code",
   "execution_count": 6,
   "metadata": {},
   "outputs": [
    {
     "data": {
      "text/html": [
       "<div>\n",
       "<style scoped>\n",
       "    .dataframe tbody tr th:only-of-type {\n",
       "        vertical-align: middle;\n",
       "    }\n",
       "\n",
       "    .dataframe tbody tr th {\n",
       "        vertical-align: top;\n",
       "    }\n",
       "\n",
       "    .dataframe thead th {\n",
       "        text-align: right;\n",
       "    }\n",
       "</style>\n",
       "<table border=\"1\" class=\"dataframe\">\n",
       "  <thead>\n",
       "    <tr style=\"text-align: right;\">\n",
       "      <th></th>\n",
       "      <th>longitude</th>\n",
       "      <th>latitude</th>\n",
       "      <th>housing_median_age</th>\n",
       "      <th>total_rooms</th>\n",
       "      <th>total_bedrooms</th>\n",
       "      <th>population</th>\n",
       "      <th>households</th>\n",
       "      <th>median_income</th>\n",
       "      <th>median_house_value</th>\n",
       "      <th>ocean_proximity</th>\n",
       "    </tr>\n",
       "  </thead>\n",
       "  <tbody>\n",
       "    <tr>\n",
       "      <th>20635</th>\n",
       "      <td>-121.09</td>\n",
       "      <td>39.48</td>\n",
       "      <td>25.0</td>\n",
       "      <td>1665.0</td>\n",
       "      <td>374.0</td>\n",
       "      <td>845.0</td>\n",
       "      <td>330.0</td>\n",
       "      <td>1.5603</td>\n",
       "      <td>78100.0</td>\n",
       "      <td>INLAND</td>\n",
       "    </tr>\n",
       "    <tr>\n",
       "      <th>20636</th>\n",
       "      <td>-121.21</td>\n",
       "      <td>39.49</td>\n",
       "      <td>18.0</td>\n",
       "      <td>697.0</td>\n",
       "      <td>150.0</td>\n",
       "      <td>356.0</td>\n",
       "      <td>114.0</td>\n",
       "      <td>2.5568</td>\n",
       "      <td>77100.0</td>\n",
       "      <td>INLAND</td>\n",
       "    </tr>\n",
       "    <tr>\n",
       "      <th>20637</th>\n",
       "      <td>-121.22</td>\n",
       "      <td>39.43</td>\n",
       "      <td>17.0</td>\n",
       "      <td>2254.0</td>\n",
       "      <td>485.0</td>\n",
       "      <td>1007.0</td>\n",
       "      <td>433.0</td>\n",
       "      <td>1.7000</td>\n",
       "      <td>92300.0</td>\n",
       "      <td>INLAND</td>\n",
       "    </tr>\n",
       "    <tr>\n",
       "      <th>20638</th>\n",
       "      <td>-121.32</td>\n",
       "      <td>39.43</td>\n",
       "      <td>18.0</td>\n",
       "      <td>1860.0</td>\n",
       "      <td>409.0</td>\n",
       "      <td>741.0</td>\n",
       "      <td>349.0</td>\n",
       "      <td>1.8672</td>\n",
       "      <td>84700.0</td>\n",
       "      <td>INLAND</td>\n",
       "    </tr>\n",
       "    <tr>\n",
       "      <th>20639</th>\n",
       "      <td>-121.24</td>\n",
       "      <td>39.37</td>\n",
       "      <td>16.0</td>\n",
       "      <td>2785.0</td>\n",
       "      <td>616.0</td>\n",
       "      <td>1387.0</td>\n",
       "      <td>530.0</td>\n",
       "      <td>2.3886</td>\n",
       "      <td>89400.0</td>\n",
       "      <td>INLAND</td>\n",
       "    </tr>\n",
       "  </tbody>\n",
       "</table>\n",
       "</div>"
      ],
      "text/plain": [
       "       longitude  latitude  housing_median_age  total_rooms  total_bedrooms  \\\n",
       "20635    -121.09     39.48                25.0       1665.0           374.0   \n",
       "20636    -121.21     39.49                18.0        697.0           150.0   \n",
       "20637    -121.22     39.43                17.0       2254.0           485.0   \n",
       "20638    -121.32     39.43                18.0       1860.0           409.0   \n",
       "20639    -121.24     39.37                16.0       2785.0           616.0   \n",
       "\n",
       "       population  households  median_income  median_house_value  \\\n",
       "20635       845.0       330.0         1.5603             78100.0   \n",
       "20636       356.0       114.0         2.5568             77100.0   \n",
       "20637      1007.0       433.0         1.7000             92300.0   \n",
       "20638       741.0       349.0         1.8672             84700.0   \n",
       "20639      1387.0       530.0         2.3886             89400.0   \n",
       "\n",
       "      ocean_proximity  \n",
       "20635          INLAND  \n",
       "20636          INLAND  \n",
       "20637          INLAND  \n",
       "20638          INLAND  \n",
       "20639          INLAND  "
      ]
     },
     "execution_count": 6,
     "metadata": {},
     "output_type": "execute_result"
    }
   ],
   "source": [
    "# View the last 5 rows of the DataFrame\n",
    "california_housing_prices_df.tail()"
   ]
  },
  {
   "cell_type": "code",
   "execution_count": 7,
   "metadata": {},
   "outputs": [
    {
     "data": {
      "text/html": [
       "<div>\n",
       "<style scoped>\n",
       "    .dataframe tbody tr th:only-of-type {\n",
       "        vertical-align: middle;\n",
       "    }\n",
       "\n",
       "    .dataframe tbody tr th {\n",
       "        vertical-align: top;\n",
       "    }\n",
       "\n",
       "    .dataframe thead th {\n",
       "        text-align: right;\n",
       "    }\n",
       "</style>\n",
       "<table border=\"1\" class=\"dataframe\">\n",
       "  <thead>\n",
       "    <tr style=\"text-align: right;\">\n",
       "      <th></th>\n",
       "      <th>longitude</th>\n",
       "      <th>latitude</th>\n",
       "      <th>housing_median_age</th>\n",
       "      <th>total_rooms</th>\n",
       "      <th>total_bedrooms</th>\n",
       "      <th>population</th>\n",
       "      <th>households</th>\n",
       "      <th>median_income</th>\n",
       "      <th>median_house_value</th>\n",
       "      <th>ocean_proximity</th>\n",
       "    </tr>\n",
       "  </thead>\n",
       "  <tbody>\n",
       "    <tr>\n",
       "      <th>12887</th>\n",
       "      <td>-121.34</td>\n",
       "      <td>38.66</td>\n",
       "      <td>18.0</td>\n",
       "      <td>4164.0</td>\n",
       "      <td>963.0</td>\n",
       "      <td>2032.0</td>\n",
       "      <td>898.0</td>\n",
       "      <td>2.1190</td>\n",
       "      <td>133100.0</td>\n",
       "      <td>INLAND</td>\n",
       "    </tr>\n",
       "    <tr>\n",
       "      <th>18514</th>\n",
       "      <td>-122.02</td>\n",
       "      <td>36.99</td>\n",
       "      <td>30.0</td>\n",
       "      <td>2156.0</td>\n",
       "      <td>487.0</td>\n",
       "      <td>1023.0</td>\n",
       "      <td>458.0</td>\n",
       "      <td>2.7875</td>\n",
       "      <td>245000.0</td>\n",
       "      <td>NEAR OCEAN</td>\n",
       "    </tr>\n",
       "    <tr>\n",
       "      <th>50</th>\n",
       "      <td>-122.27</td>\n",
       "      <td>37.82</td>\n",
       "      <td>21.0</td>\n",
       "      <td>896.0</td>\n",
       "      <td>453.0</td>\n",
       "      <td>735.0</td>\n",
       "      <td>438.0</td>\n",
       "      <td>0.9218</td>\n",
       "      <td>171900.0</td>\n",
       "      <td>NEAR BAY</td>\n",
       "    </tr>\n",
       "    <tr>\n",
       "      <th>8425</th>\n",
       "      <td>-118.34</td>\n",
       "      <td>33.92</td>\n",
       "      <td>29.0</td>\n",
       "      <td>1475.0</td>\n",
       "      <td>349.0</td>\n",
       "      <td>965.0</td>\n",
       "      <td>370.0</td>\n",
       "      <td>3.3558</td>\n",
       "      <td>199600.0</td>\n",
       "      <td>&lt;1H OCEAN</td>\n",
       "    </tr>\n",
       "    <tr>\n",
       "      <th>2922</th>\n",
       "      <td>-119.02</td>\n",
       "      <td>35.36</td>\n",
       "      <td>47.0</td>\n",
       "      <td>1631.0</td>\n",
       "      <td>340.0</td>\n",
       "      <td>847.0</td>\n",
       "      <td>315.0</td>\n",
       "      <td>2.5062</td>\n",
       "      <td>73700.0</td>\n",
       "      <td>INLAND</td>\n",
       "    </tr>\n",
       "    <tr>\n",
       "      <th>20538</th>\n",
       "      <td>-121.73</td>\n",
       "      <td>38.56</td>\n",
       "      <td>30.0</td>\n",
       "      <td>3306.0</td>\n",
       "      <td>629.0</td>\n",
       "      <td>1623.0</td>\n",
       "      <td>648.0</td>\n",
       "      <td>2.8614</td>\n",
       "      <td>145200.0</td>\n",
       "      <td>INLAND</td>\n",
       "    </tr>\n",
       "    <tr>\n",
       "      <th>3325</th>\n",
       "      <td>-122.83</td>\n",
       "      <td>38.96</td>\n",
       "      <td>15.0</td>\n",
       "      <td>1318.0</td>\n",
       "      <td>296.0</td>\n",
       "      <td>567.0</td>\n",
       "      <td>276.0</td>\n",
       "      <td>1.8692</td>\n",
       "      <td>93800.0</td>\n",
       "      <td>INLAND</td>\n",
       "    </tr>\n",
       "    <tr>\n",
       "      <th>14120</th>\n",
       "      <td>-117.09</td>\n",
       "      <td>32.74</td>\n",
       "      <td>23.0</td>\n",
       "      <td>3130.0</td>\n",
       "      <td>779.0</td>\n",
       "      <td>2472.0</td>\n",
       "      <td>744.0</td>\n",
       "      <td>2.3200</td>\n",
       "      <td>93200.0</td>\n",
       "      <td>NEAR OCEAN</td>\n",
       "    </tr>\n",
       "    <tr>\n",
       "      <th>3604</th>\n",
       "      <td>-118.48</td>\n",
       "      <td>34.23</td>\n",
       "      <td>35.0</td>\n",
       "      <td>1963.0</td>\n",
       "      <td>310.0</td>\n",
       "      <td>919.0</td>\n",
       "      <td>297.0</td>\n",
       "      <td>4.7583</td>\n",
       "      <td>258600.0</td>\n",
       "      <td>&lt;1H OCEAN</td>\n",
       "    </tr>\n",
       "    <tr>\n",
       "      <th>14402</th>\n",
       "      <td>-117.25</td>\n",
       "      <td>32.79</td>\n",
       "      <td>43.0</td>\n",
       "      <td>906.0</td>\n",
       "      <td>240.0</td>\n",
       "      <td>458.0</td>\n",
       "      <td>205.0</td>\n",
       "      <td>1.8365</td>\n",
       "      <td>328600.0</td>\n",
       "      <td>NEAR OCEAN</td>\n",
       "    </tr>\n",
       "  </tbody>\n",
       "</table>\n",
       "</div>"
      ],
      "text/plain": [
       "       longitude  latitude  housing_median_age  total_rooms  total_bedrooms  \\\n",
       "12887    -121.34     38.66                18.0       4164.0           963.0   \n",
       "18514    -122.02     36.99                30.0       2156.0           487.0   \n",
       "50       -122.27     37.82                21.0        896.0           453.0   \n",
       "8425     -118.34     33.92                29.0       1475.0           349.0   \n",
       "2922     -119.02     35.36                47.0       1631.0           340.0   \n",
       "20538    -121.73     38.56                30.0       3306.0           629.0   \n",
       "3325     -122.83     38.96                15.0       1318.0           296.0   \n",
       "14120    -117.09     32.74                23.0       3130.0           779.0   \n",
       "3604     -118.48     34.23                35.0       1963.0           310.0   \n",
       "14402    -117.25     32.79                43.0        906.0           240.0   \n",
       "\n",
       "       population  households  median_income  median_house_value  \\\n",
       "12887      2032.0       898.0         2.1190            133100.0   \n",
       "18514      1023.0       458.0         2.7875            245000.0   \n",
       "50          735.0       438.0         0.9218            171900.0   \n",
       "8425        965.0       370.0         3.3558            199600.0   \n",
       "2922        847.0       315.0         2.5062             73700.0   \n",
       "20538      1623.0       648.0         2.8614            145200.0   \n",
       "3325        567.0       276.0         1.8692             93800.0   \n",
       "14120      2472.0       744.0         2.3200             93200.0   \n",
       "3604        919.0       297.0         4.7583            258600.0   \n",
       "14402       458.0       205.0         1.8365            328600.0   \n",
       "\n",
       "      ocean_proximity  \n",
       "12887          INLAND  \n",
       "18514      NEAR OCEAN  \n",
       "50           NEAR BAY  \n",
       "8425        <1H OCEAN  \n",
       "2922           INLAND  \n",
       "20538          INLAND  \n",
       "3325           INLAND  \n",
       "14120      NEAR OCEAN  \n",
       "3604        <1H OCEAN  \n",
       "14402      NEAR OCEAN  "
      ]
     },
     "execution_count": 7,
     "metadata": {},
     "output_type": "execute_result"
    }
   ],
   "source": [
    "# View a random sample of 10 rows from the DataFrame\n",
    "california_housing_prices_df.sample(10)"
   ]
  },
  {
   "cell_type": "code",
   "execution_count": 8,
   "metadata": {},
   "outputs": [
    {
     "data": {
      "text/html": [
       "<div>\n",
       "<style scoped>\n",
       "    .dataframe tbody tr th:only-of-type {\n",
       "        vertical-align: middle;\n",
       "    }\n",
       "\n",
       "    .dataframe tbody tr th {\n",
       "        vertical-align: top;\n",
       "    }\n",
       "\n",
       "    .dataframe thead th {\n",
       "        text-align: right;\n",
       "    }\n",
       "</style>\n",
       "<table border=\"1\" class=\"dataframe\">\n",
       "  <thead>\n",
       "    <tr style=\"text-align: right;\">\n",
       "      <th></th>\n",
       "      <th>longitude</th>\n",
       "      <th>latitude</th>\n",
       "      <th>housing_median_age</th>\n",
       "      <th>total_rooms</th>\n",
       "      <th>total_bedrooms</th>\n",
       "      <th>population</th>\n",
       "      <th>households</th>\n",
       "      <th>median_income</th>\n",
       "      <th>median_house_value</th>\n",
       "    </tr>\n",
       "  </thead>\n",
       "  <tbody>\n",
       "    <tr>\n",
       "      <th>count</th>\n",
       "      <td>20640.000000</td>\n",
       "      <td>20640.000000</td>\n",
       "      <td>20640.000000</td>\n",
       "      <td>20640.000000</td>\n",
       "      <td>20433.000000</td>\n",
       "      <td>20640.000000</td>\n",
       "      <td>20640.000000</td>\n",
       "      <td>20640.000000</td>\n",
       "      <td>20640.000000</td>\n",
       "    </tr>\n",
       "    <tr>\n",
       "      <th>mean</th>\n",
       "      <td>-119.569704</td>\n",
       "      <td>35.631861</td>\n",
       "      <td>28.639486</td>\n",
       "      <td>2635.763081</td>\n",
       "      <td>537.870553</td>\n",
       "      <td>1425.476744</td>\n",
       "      <td>499.539680</td>\n",
       "      <td>3.870671</td>\n",
       "      <td>206855.816909</td>\n",
       "    </tr>\n",
       "    <tr>\n",
       "      <th>std</th>\n",
       "      <td>2.003532</td>\n",
       "      <td>2.135952</td>\n",
       "      <td>12.585558</td>\n",
       "      <td>2181.615252</td>\n",
       "      <td>421.385070</td>\n",
       "      <td>1132.462122</td>\n",
       "      <td>382.329753</td>\n",
       "      <td>1.899822</td>\n",
       "      <td>115395.615874</td>\n",
       "    </tr>\n",
       "    <tr>\n",
       "      <th>min</th>\n",
       "      <td>-124.350000</td>\n",
       "      <td>32.540000</td>\n",
       "      <td>1.000000</td>\n",
       "      <td>2.000000</td>\n",
       "      <td>1.000000</td>\n",
       "      <td>3.000000</td>\n",
       "      <td>1.000000</td>\n",
       "      <td>0.499900</td>\n",
       "      <td>14999.000000</td>\n",
       "    </tr>\n",
       "    <tr>\n",
       "      <th>25%</th>\n",
       "      <td>-121.800000</td>\n",
       "      <td>33.930000</td>\n",
       "      <td>18.000000</td>\n",
       "      <td>1447.750000</td>\n",
       "      <td>296.000000</td>\n",
       "      <td>787.000000</td>\n",
       "      <td>280.000000</td>\n",
       "      <td>2.563400</td>\n",
       "      <td>119600.000000</td>\n",
       "    </tr>\n",
       "    <tr>\n",
       "      <th>50%</th>\n",
       "      <td>-118.490000</td>\n",
       "      <td>34.260000</td>\n",
       "      <td>29.000000</td>\n",
       "      <td>2127.000000</td>\n",
       "      <td>435.000000</td>\n",
       "      <td>1166.000000</td>\n",
       "      <td>409.000000</td>\n",
       "      <td>3.534800</td>\n",
       "      <td>179700.000000</td>\n",
       "    </tr>\n",
       "    <tr>\n",
       "      <th>75%</th>\n",
       "      <td>-118.010000</td>\n",
       "      <td>37.710000</td>\n",
       "      <td>37.000000</td>\n",
       "      <td>3148.000000</td>\n",
       "      <td>647.000000</td>\n",
       "      <td>1725.000000</td>\n",
       "      <td>605.000000</td>\n",
       "      <td>4.743250</td>\n",
       "      <td>264725.000000</td>\n",
       "    </tr>\n",
       "    <tr>\n",
       "      <th>max</th>\n",
       "      <td>-114.310000</td>\n",
       "      <td>41.950000</td>\n",
       "      <td>52.000000</td>\n",
       "      <td>39320.000000</td>\n",
       "      <td>6445.000000</td>\n",
       "      <td>35682.000000</td>\n",
       "      <td>6082.000000</td>\n",
       "      <td>15.000100</td>\n",
       "      <td>500001.000000</td>\n",
       "    </tr>\n",
       "  </tbody>\n",
       "</table>\n",
       "</div>"
      ],
      "text/plain": [
       "          longitude      latitude  housing_median_age   total_rooms  \\\n",
       "count  20640.000000  20640.000000        20640.000000  20640.000000   \n",
       "mean    -119.569704     35.631861           28.639486   2635.763081   \n",
       "std        2.003532      2.135952           12.585558   2181.615252   \n",
       "min     -124.350000     32.540000            1.000000      2.000000   \n",
       "25%     -121.800000     33.930000           18.000000   1447.750000   \n",
       "50%     -118.490000     34.260000           29.000000   2127.000000   \n",
       "75%     -118.010000     37.710000           37.000000   3148.000000   \n",
       "max     -114.310000     41.950000           52.000000  39320.000000   \n",
       "\n",
       "       total_bedrooms    population    households  median_income  \\\n",
       "count    20433.000000  20640.000000  20640.000000   20640.000000   \n",
       "mean       537.870553   1425.476744    499.539680       3.870671   \n",
       "std        421.385070   1132.462122    382.329753       1.899822   \n",
       "min          1.000000      3.000000      1.000000       0.499900   \n",
       "25%        296.000000    787.000000    280.000000       2.563400   \n",
       "50%        435.000000   1166.000000    409.000000       3.534800   \n",
       "75%        647.000000   1725.000000    605.000000       4.743250   \n",
       "max       6445.000000  35682.000000   6082.000000      15.000100   \n",
       "\n",
       "       median_house_value  \n",
       "count        20640.000000  \n",
       "mean        206855.816909  \n",
       "std         115395.615874  \n",
       "min          14999.000000  \n",
       "25%         119600.000000  \n",
       "50%         179700.000000  \n",
       "75%         264725.000000  \n",
       "max         500001.000000  "
      ]
     },
     "execution_count": 8,
     "metadata": {},
     "output_type": "execute_result"
    }
   ],
   "source": [
    "# View summary statistics for the DataFrame\n",
    "california_housing_prices_df.describe()"
   ]
  },
  {
   "cell_type": "code",
   "execution_count": 9,
   "metadata": {},
   "outputs": [
    {
     "data": {
      "text/plain": [
       "89         78.0\n",
       "459       236.0\n",
       "493       225.0\n",
       "494       474.0\n",
       "509       379.0\n",
       "          ...  \n",
       "20422     263.0\n",
       "20426     138.0\n",
       "20427    2222.0\n",
       "20436     409.0\n",
       "20443      33.0\n",
       "Name: total_bedrooms, Length: 965, dtype: float64"
      ]
     },
     "execution_count": 9,
     "metadata": {},
     "output_type": "execute_result"
    }
   ],
   "source": [
    "# Get the values in the \"median_house_value\" column for the first 10 rows of the DataFrame\n",
    "california_housing_prices_df.loc[:10, \"median_house_value\"]\n",
    "\n",
    "# Get the values in the \"total_bedrooms\" column for all rows in the DataFrame where the \"median_house_value\" is greater than 500000\n",
    "california_housing_prices_df.loc[california_housing_prices_df[\"median_house_value\"] > 500000, \"total_bedrooms\"]\n"
   ]
  },
  {
   "cell_type": "code",
   "execution_count": 10,
   "metadata": {},
   "outputs": [
    {
     "name": "stdout",
     "output_type": "stream",
     "text": [
      "longitude               0\n",
      "latitude                0\n",
      "housing_median_age      0\n",
      "total_rooms             0\n",
      "total_bedrooms        207\n",
      "population              0\n",
      "households              0\n",
      "median_income           0\n",
      "median_house_value      0\n",
      "ocean_proximity         0\n",
      "dtype: int64\n"
     ]
    }
   ],
   "source": [
    "# Check for missing values\n",
    "print(california_housing_prices_df.isnull().sum())"
   ]
  },
  {
   "cell_type": "markdown",
   "metadata": {},
   "source": [
    "### 4. Prepare the data for machine learning\n",
    "\n",
    "- Identifying and handling missing values\n",
    "- Identifying and removing outliers\n",
    "- Transforming the data\n",
    "- Splitting the data into training and testing sets"
   ]
  },
  {
   "cell_type": "code",
   "execution_count": 11,
   "metadata": {},
   "outputs": [
    {
     "name": "stdout",
     "output_type": "stream",
     "text": [
      "435.0\n"
     ]
    }
   ],
   "source": [
    "#impute the missing values in the total_bedrooms column with the median value for the total_bedrooms column. \n",
    "#The fillna() method is used to impute the missing values. \n",
    "#The inplace=True parameter tells the fillna() method to modify the original DataFrame.\n",
    "\n",
    "# Get the median value for the total_bedrooms column\n",
    "total_bedrooms_median = california_housing_prices_df['total_bedrooms'].median()\n",
    "print(total_bedrooms_median)\n",
    "\n",
    "# Impute the missing values in the total_bedrooms column with the median value\n",
    "california_housing_prices_df['total_bedrooms'].fillna(total_bedrooms_median, inplace=True)"
   ]
  },
  {
   "cell_type": "code",
   "execution_count": 12,
   "metadata": {},
   "outputs": [
    {
     "name": "stdout",
     "output_type": "stream",
     "text": [
      "   longitude  latitude  housing_median_age  total_rooms  total_bedrooms  \\\n",
      "0    -122.23     37.88                41.0        880.0           129.0   \n",
      "1    -122.22     37.86                21.0       7099.0          1106.0   \n",
      "2    -122.24     37.85                52.0       1467.0           190.0   \n",
      "3    -122.25     37.85                52.0       1274.0           235.0   \n",
      "4    -122.25     37.85                52.0       1627.0           280.0   \n",
      "\n",
      "   population  households  median_income  median_house_value ocean_proximity  \n",
      "0       322.0       126.0         8.3252            452600.0        NEAR BAY  \n",
      "1      2401.0      1138.0         8.3014            358500.0        NEAR BAY  \n",
      "2       496.0       177.0         7.2574            352100.0        NEAR BAY  \n",
      "3       558.0       219.0         5.6431            341300.0        NEAR BAY  \n",
      "4       565.0       259.0         3.8462            342200.0        NEAR BAY  \n"
     ]
    }
   ],
   "source": [
    "print(california_housing_prices_df.head())"
   ]
  },
  {
   "cell_type": "code",
   "execution_count": 13,
   "metadata": {},
   "outputs": [
    {
     "name": "stdout",
     "output_type": "stream",
     "text": [
      "longitude             0\n",
      "latitude              0\n",
      "housing_median_age    0\n",
      "total_rooms           0\n",
      "total_bedrooms        0\n",
      "population            0\n",
      "households            0\n",
      "median_income         0\n",
      "median_house_value    0\n",
      "ocean_proximity       0\n",
      "dtype: int64\n"
     ]
    }
   ],
   "source": [
    "# Check for missing values\n",
    "print(california_housing_prices_df.isnull().sum())"
   ]
  },
  {
   "cell_type": "markdown",
   "metadata": {},
   "source": [
    "### Outlier: \n",
    "An outlier is a data point that is significantly different from the other data points in the dataset.\n",
    "Outliers can be identified by looking at the distribution of the data.\n",
    "- In the California housing prices dataset, we can identify outliers by looking at the histogram and boxplot of the total_bedrooms column.\n",
    "- In the histogram, there is an outlier at around 10 bedrooms.\n",
    "- This is likely a valid outlier, as there are very few houses in the California housing prices dataset with 10 bedrooms.\n",
    "- In the boxplot, there is an outlier at around 4 bedrooms.\n",
    "- This may or may not be a valid outlier. It is possible that there are a few houses in the California housing prices dataset with 4 bedrooms that are located in expensive neighborhoods.\n",
    "- To determine whether or not this outlier is truly an outlier, we would need to further investigate it. We could look at the other features of the house, such as the square footage, location, and amenities, to determine whether or not the outlier is valid.\n",
    "\n",
    "Here is a simple analogy to understand outliers\n",
    "\n",
    "- Imagine that you are standing in a crowd of people. Most of the people in the crowd are about the same height. However, there are a few people in the crowd who are much taller or much shorter than the other people. These people are outliers.\n",
    "\n",
    "- Similarly, in a dataset, most of the data points are similar to each other. However, there are a few data points that are very different from the other data points. These data points are outliers.\n",
    "\n",
    "- Outliers can be caused by a variety of factors, such as errors in data collection, unusual events, or fraud. It is important to identify and handle outliers before performing data analysis, as outliers can skew the results of the analysis."
   ]
  },
  {
   "cell_type": "code",
   "execution_count": 14,
   "metadata": {},
   "outputs": [
    {
     "name": "stdout",
     "output_type": "stream",
     "text": [
      "1798\n",
      "[283, 570, 576, 780, 864, 865, 869, 871, 889, 922, 972, 985, 988, 995, 1010, 1021, 1053, 1059, 1060, 1260, 1277, 1380, 1508, 1511, 1524, 1558, 1560, 1590, 1642, 1645, 1700, 1930, 2294, 2311, 2312, 2961, 2963, 2975, 2999, 3147, 3388, 3546, 3560, 3648, 3942, 3981, 3996, 4035, 4038, 4049, 4050, 4070, 5244, 5246, 5347, 5492, 5540, 5630, 5724, 5921, 5924, 5936, 5963, 5964, 5968, 5983, 6055, 6057, 6058, 6060, 6061, 6063, 6065, 6066, 6070, 6287, 6297, 6328, 6329, 6338, 6340, 6401, 6576, 6705, 7099, 7130, 7617, 7639, 8467, 8468, 8716, 8717, 8728, 8786, 8800, 8801, 8802, 8804, 8956, 8985, 8986, 9004, 9013, 9015, 9018, 9019, 9023, 9027, 9036, 9040, 9048, 9064, 9084, 9109, 9114, 9118, 9122, 9123, 9128, 9130, 9131, 9133, 9135, 9145, 9149, 9154, 9159, 9166, 9167, 9170, 9183, 9185, 9282, 9283, 9285, 9286, 9289, 9300, 9385, 9697, 9712, 9716, 9744, 9792, 9880, 10309, 10312, 10319, 10326, 10362, 10519, 10539, 10570, 10571, 10572, 10653, 10746, 10853, 11008, 11067, 11083, 11745, 11775, 11785, 11833, 11900, 11901, 11960, 11970, 11976, 11982, 11989, 12002, 12006, 12039, 12040, 12041, 12067, 12077, 12084, 12102, 12106, 12109, 12114, 12115, 12119, 12126, 12127, 12128, 12129, 12132, 12133, 12137, 12144, 12152, 12191, 12192, 12194, 12201, 12204, 12214, 12215, 12218, 12227, 12243, 12254, 12258, 12267, 12305, 12318, 12325, 12340, 12346, 12347, 12351, 12358, 12362, 12365, 12371, 12374, 12375, 12376, 12377, 12382, 12385, 12386, 12395, 12402, 12406, 12623, 12663, 12671, 12703, 12813, 12814, 12817, 12868, 12872, 12954, 12957, 13039, 13041, 13045, 13049, 13051, 13053, 13080, 13098, 13099, 13132, 13139, 13176, 13179, 13180, 13181, 13182, 13221, 13368, 13370, 13373, 13376, 13377, 13378, 13379, 13382, 13383, 13387, 13399, 13403, 13422, 13423, 13424, 13517, 13519, 13715, 13834, 13848, 13878, 13889, 13914, 13915, 13940, 13945, 13958, 13981, 14209, 14505, 14543, 14553, 14558, 14684, 14929, 14931, 14959, 15049, 15061, 15077, 15105, 15108, 15114, 15117, 15155, 15158, 15183, 15203, 15215, 15220, 15222, 15228, 15283, 15286, 15336, 15337, 15360, 15413, 15459, 15461, 15524, 15533, 15540, 15544, 15574, 16559, 16606, 16711, 16727, 16839, 16845, 17024, 17185, 17413, 17690, 17777, 17845, 17964, 18041, 18209, 18346, 18361, 18462, 18469, 18745, 18860, 18875, 18926, 18927, 18980, 18985, 19033, 19170, 19405, 19421, 19423, 19452, 19658, 20110, 20153, 20249, 20271, 20278, 20328, 20333, 20335, 20336, 20342, 20424, 20427, 20440, 20451, 20529, 20530, 20563, 20629, 95, 104, 283, 508, 570, 576, 780, 864, 865, 869, 871, 883, 887, 922, 985, 995, 1010, 1021, 1053, 1059, 1060, 1277, 1380, 1477, 1508, 1560, 1642, 1700, 2294, 2311, 2312, 2830, 2961, 2963, 2975, 2978, 2999, 3537, 3540, 3554, 3560, 3603, 3621, 3648, 3791, 3829, 3871, 3893, 3942, 3963, 3981, 3996, 4029, 4030, 4035, 4038, 4060, 4232, 4253, 4257, 4262, 4264, 4266, 4556, 4579, 4616, 4627, 4634, 4636, 4686, 5270, 5329, 5347, 5383, 5387, 5389, 5450, 5492, 5540, 5553, 5724, 5815, 5844, 5845, 5921, 5924, 5936, 5964, 5968, 5982, 5983, 6055, 6057, 6061, 6063, 6065, 6066, 6287, 6297, 6328, 6329, 6338, 6340, 6401, 6705, 7130, 7361, 7718, 7864, 8196, 8309, 8467, 8468, 8520, 8659, 8716, 8717, 8728, 8755, 8801, 8804, 8827, 8833, 8841, 8956, 8985, 8986, 9004, 9013, 9018, 9019, 9027, 9036, 9040, 9064, 9084, 9114, 9118, 9122, 9128, 9133, 9135, 9145, 9154, 9159, 9166, 9167, 9170, 9183, 9185, 9282, 9285, 9286, 9289, 9331, 9360, 9666, 9692, 9697, 9712, 9716, 9744, 9880, 9881, 10309, 10362, 10539, 10570, 10571, 10572, 10653, 10746, 10842, 10898, 10948, 11067, 11775, 11960, 11970, 11982, 11986, 11989, 12006, 12039, 12040, 12041, 12067, 12077, 12084, 12106, 12109, 12114, 12115, 12119, 12127, 12128, 12129, 12132, 12137, 12144, 12152, 12191, 12192, 12194, 12201, 12204, 12214, 12215, 12218, 12227, 12243, 12254, 12258, 12267, 12305, 12318, 12325, 12329, 12340, 12342, 12346, 12347, 12351, 12354, 12362, 12365, 12371, 12374, 12375, 12376, 12377, 12382, 12383, 12385, 12386, 12395, 12402, 12406, 12411, 12623, 12663, 12671, 12672, 12703, 12704, 12812, 12813, 12814, 12817, 12868, 12872, 12954, 12957, 13051, 13053, 13080, 13098, 13099, 13139, 13176, 13181, 13182, 13221, 13259, 13368, 13370, 13373, 13379, 13382, 13383, 13387, 13399, 13422, 13424, 13474, 13517, 13607, 13651, 13715, 13834, 13848, 13878, 13900, 13914, 13915, 13923, 13958, 13972, 13981, 14035, 14505, 14515, 14543, 14553, 14558, 14684, 14931, 14959, 15015, 15049, 15059, 15061, 15105, 15108, 15114, 15117, 15183, 15203, 15208, 15215, 15220, 15283, 15286, 15336, 15337, 15360, 15413, 15459, 15461, 15523, 15524, 15526, 15527, 15533, 15544, 15574, 15657, 15659, 16606, 16814, 16839, 16845, 17024, 17088, 17132, 17185, 17413, 17690, 17770, 17777, 17845, 17964, 17976, 17993, 18041, 18202, 18209, 18462, 18745, 18860, 18875, 18926, 18963, 18980, 18985, 19405, 19421, 19428, 19452, 19658, 20110, 20249, 20271, 20336, 20424, 20427, 20437, 20440, 20451, 20529, 20530, 20543, 20544, 20563, 20629, 283, 570, 576, 780, 799, 864, 865, 867, 869, 871, 922, 985, 995, 1010, 1021, 1039, 1060, 1086, 1560, 1642, 1700, 1930, 2025, 2119, 2294, 2311, 2963, 2975, 2978, 2999, 3004, 3167, 3177, 3413, 3554, 3560, 3603, 3607, 3621, 3648, 3829, 3871, 3942, 3981, 4035, 4264, 4266, 4267, 4579, 4616, 4634, 4636, 4670, 5540, 5724, 5815, 5921, 5924, 5963, 5964, 5968, 5983, 6055, 6057, 6058, 6061, 6063, 6065, 6066, 6070, 6143, 6287, 6289, 6297, 6298, 6303, 6328, 6329, 6338, 6340, 6401, 6502, 6516, 6518, 6550, 6844, 7130, 7357, 7361, 7617, 7864, 7907, 8467, 8468, 8520, 8716, 8717, 8728, 8804, 8985, 8986, 9004, 9013, 9018, 9019, 9027, 9036, 9040, 9064, 9081, 9084, 9114, 9118, 9122, 9123, 9128, 9131, 9133, 9135, 9145, 9149, 9154, 9159, 9166, 9167, 9170, 9172, 9183, 9185, 9282, 9286, 9289, 9331, 9579, 9692, 9693, 9697, 9716, 9744, 9748, 9880, 9881, 10309, 10539, 10664, 10842, 10910, 10921, 10934, 10948, 10957, 10997, 11066, 11067, 11083, 11349, 11775, 11960, 11970, 11976, 11982, 11989, 12002, 12006, 12022, 12039, 12040, 12041, 12067, 12072, 12077, 12097, 12106, 12109, 12114, 12115, 12119, 12122, 12126, 12127, 12128, 12129, 12132, 12133, 12135, 12137, 12144, 12152, 12191, 12194, 12201, 12204, 12214, 12215, 12218, 12227, 12258, 12365, 12411, 12422, 12441, 12623, 12658, 12663, 12671, 12703, 12813, 12814, 12817, 12868, 12872, 12954, 12957, 13034, 13047, 13051, 13053, 13080, 13098, 13099, 13132, 13139, 13176, 13181, 13182, 13221, 13223, 13226, 13316, 13370, 13377, 13378, 13379, 13382, 13383, 13387, 13399, 13403, 13422, 13423, 13424, 13459, 13517, 13519, 13715, 13788, 13816, 13834, 13848, 13878, 13889, 13890, 14209, 14471, 14505, 14515, 14543, 14553, 14558, 14756, 14913, 14931, 14959, 15049, 15059, 15061, 15105, 15108, 15114, 15117, 15183, 15203, 15215, 15220, 15286, 15336, 15337, 15360, 15413, 15459, 15491, 15523, 15524, 15526, 15527, 15533, 15544, 15574, 15579, 16559, 16606, 16669, 16818, 16820, 16839, 17024, 17073, 17185, 17413, 17460, 17551, 17690, 17752, 17754, 17761, 17770, 17777, 17845, 18209, 18346, 18349, 18462, 18745, 18860, 18875, 18911, 18926, 18980, 18985, 19006, 19421, 19452, 19574, 19658, 20121, 20249, 20278, 20305, 20308, 20316, 20318, 20333, 20336, 20424, 20427, 20440, 20451, 20529, 20530, 20544, 20563, 20629, 95, 104, 116, 283, 485, 508, 570, 576, 780, 864, 865, 869, 871, 883, 887, 922, 985, 995, 1010, 1021, 1053, 1058, 1059, 1060, 1277, 1380, 1477, 1508, 1560, 1642, 1700, 2294, 2311, 2312, 2830, 2961, 2963, 2975, 2978, 2999, 3537, 3540, 3554, 3560, 3603, 3621, 3648, 3791, 3871, 3893, 3942, 3963, 3981, 3996, 4029, 4030, 4035, 4038, 4060, 4232, 4253, 4257, 4262, 4264, 4266, 4579, 4616, 4627, 4634, 4636, 4686, 5270, 5282, 5329, 5347, 5383, 5387, 5389, 5450, 5492, 5540, 5630, 5724, 5815, 5844, 5845, 5921, 5924, 5936, 5964, 5968, 5982, 5983, 6055, 6057, 6061, 6063, 6065, 6066, 6287, 6289, 6297, 6303, 6328, 6329, 6338, 6340, 6401, 6705, 7130, 7361, 7718, 7864, 7885, 8309, 8467, 8468, 8520, 8659, 8716, 8717, 8728, 8755, 8801, 8804, 8827, 8833, 8841, 8889, 8956, 8985, 8986, 9004, 9013, 9018, 9019, 9023, 9027, 9036, 9040, 9064, 9084, 9114, 9122, 9128, 9133, 9135, 9145, 9154, 9159, 9166, 9167, 9170, 9183, 9185, 9282, 9285, 9286, 9289, 9331, 9360, 9385, 9692, 9697, 9712, 9716, 9744, 9880, 9881, 10309, 10362, 10539, 10570, 10571, 10572, 10653, 10746, 10842, 10898, 10948, 11066, 11067, 11775, 11960, 11970, 11982, 11986, 11989, 12006, 12039, 12040, 12041, 12067, 12077, 12106, 12109, 12114, 12115, 12119, 12126, 12127, 12128, 12129, 12132, 12137, 12144, 12152, 12191, 12192, 12194, 12201, 12204, 12214, 12215, 12218, 12227, 12243, 12254, 12258, 12267, 12318, 12346, 12365, 12374, 12375, 12377, 12406, 12411, 12623, 12663, 12671, 12672, 12674, 12703, 12704, 12813, 12814, 12817, 12868, 12872, 12954, 12957, 13049, 13051, 13053, 13080, 13098, 13099, 13132, 13139, 13176, 13181, 13182, 13221, 13370, 13378, 13379, 13382, 13383, 13387, 13399, 13422, 13517, 13607, 13651, 13715, 13834, 13848, 13878, 13890, 13914, 14209, 14505, 14515, 14543, 14553, 14558, 14684, 14931, 14959, 15015, 15049, 15059, 15061, 15105, 15108, 15114, 15117, 15183, 15203, 15208, 15215, 15220, 15283, 15286, 15336, 15337, 15360, 15413, 15459, 15461, 15523, 15524, 15526, 15527, 15533, 15544, 15574, 15657, 15659, 16559, 16606, 16711, 16727, 16814, 16839, 16845, 17024, 17088, 17132, 17185, 17413, 17690, 17770, 17777, 17845, 17925, 17964, 17976, 17993, 18041, 18202, 18209, 18346, 18462, 18745, 18860, 18875, 18926, 18963, 18980, 18985, 19405, 19421, 19428, 19452, 19658, 20153, 20249, 20278, 20336, 20412, 20424, 20427, 20437, 20440, 20451, 20529, 20530, 20543, 20544, 20563, 20629, 131, 409, 510, 511, 512, 514, 923, 977, 986, 1541, 1561, 1563, 1564, 1566, 1574, 1582, 1583, 1586, 1591, 1593, 1602, 1617, 1621, 1636, 1637, 1644, 1645, 1646, 2213, 2826, 2969, 3486, 3533, 3542, 3858, 3953, 4014, 4018, 4042, 4044, 4045, 4046, 4047, 4049, 4050, 4056, 4070, 4074, 4111, 4116, 4220, 4229, 4319, 4345, 4352, 4492, 4604, 4605, 4606, 4622, 4626, 4677, 4678, 5242, 5243, 5244, 5246, 5247, 5248, 5250, 5252, 5253, 5254, 5256, 5257, 5258, 5259, 5260, 5264, 5269, 5271, 5272, 5275, 5277, 5281, 5291, 5292, 5304, 5318, 5352, 5360, 5361, 5368, 5493, 5494, 5728, 5738, 6073, 6204, 6226, 6389, 6391, 6399, 6551, 6576, 6590, 6591, 6592, 6712, 6720, 6724, 6725, 6726, 6727, 6728, 6731, 6732, 6735, 6736, 6915, 6919, 8311, 8768, 8790, 8792, 8793, 8794, 8795, 8796, 8797, 8799, 8800, 8805, 8806, 8809, 8814, 8816, 8817, 8846, 8847, 8848, 8849, 8850, 8851, 8852, 8853, 8854, 8875, 8876, 8878, 8882, 9010, 9011, 9136, 9316, 9354, 9356, 9370, 9381, 9382, 9418, 9794, 9811, 10155, 10166, 10169, 10317, 10318, 10324, 10332, 10376, 10389, 10401, 10402, 10405, 10417, 10458, 10464, 10472, 10483, 10484, 10517, 10519, 10527, 10562, 10644, 10661, 10667, 10670, 10671, 10673, 10682, 10724, 10725, 10726, 10727, 10742, 10743, 10744, 10745, 10749, 10757, 10759, 10760, 10761, 10763, 10839, 10999, 11000, 11007, 11008, 11010, 11020, 11037, 11038, 11041, 11042, 11469, 11490, 11518, 11519, 11520, 11521, 11704, 11828, 11912, 12430, 12948, 13742, 14459, 14467, 14469, 14482, 14486, 14491, 14686, 14718, 15152, 15230, 15231, 15232, 15233, 15235, 15241, 15691, 15693, 15694, 15697, 15698, 15996, 16011, 16019, 16020, 16137, 16171, 16175, 16304, 16828, 16908, 16909, 16910, 16911, 16912, 16913, 16914, 16915, 16918, 16938, 17106, 17107, 17108, 17109, 17110, 17111, 17112, 17113, 17118, 17157, 17158, 17160, 17161, 17162, 17166, 17167, 17170, 17171, 17173, 17310, 17493, 17494, 17798, 17854, 17855, 17858, 18043, 18052, 18053, 18055, 18059, 18061, 18065, 18066, 18067, 18069, 18076, 18078, 18079, 18080, 18081, 18087, 18269, 18277, 18280, 18281, 18282, 18283, 18287, 18298, 18325, 18327, 18341, 18347, 18348, 18351, 18352, 18353, 18354, 18355, 18356, 18360, 18361, 18362, 18363, 18366, 18501, 18504, 18505, 18619, 19006, 20163, 20376, 20380, 20389, 20426, 20436]\n"
     ]
    }
   ],
   "source": [
    "# Calculate the z-scores\n",
    "mean = california_housing_prices_df.mean()\n",
    "std = california_housing_prices_df.std()\n",
    "z_scores = (california_housing_prices_df - mean) / std\n",
    "\n",
    "# Identify the outliers\n",
    "outlier_indices = []\n",
    "for col in california_housing_prices_df.columns:\n",
    "  # Remove the ocean_proximity column from the for loop\n",
    "  if col != 'ocean_proximity':\n",
    "    outlier_indices.extend(california_housing_prices_df[col].index[\n",
    "        np.abs(z_scores[col]) > 3])\n",
    "\n",
    "# Print the count of outliers\n",
    "print(len(outlier_indices))\n",
    "\n",
    "# Print the outliers indices\n",
    "print(outlier_indices)"
   ]
  },
  {
   "cell_type": "code",
   "execution_count": 15,
   "metadata": {},
   "outputs": [
    {
     "name": "stdout",
     "output_type": "stream",
     "text": [
      "       longitude  latitude  housing_median_age  total_rooms  total_bedrooms  \\\n",
      "0        -122.23     37.88                41.0        880.0           129.0   \n",
      "1        -122.22     37.86                21.0       7099.0          1106.0   \n",
      "2        -122.24     37.85                52.0       1467.0           190.0   \n",
      "3        -122.25     37.85                52.0       1274.0           235.0   \n",
      "4        -122.25     37.85                52.0       1627.0           280.0   \n",
      "...          ...       ...                 ...          ...             ...   \n",
      "20635    -121.09     39.48                25.0       1665.0           374.0   \n",
      "20636    -121.21     39.49                18.0        697.0           150.0   \n",
      "20637    -121.22     39.43                17.0       2254.0           485.0   \n",
      "20638    -121.32     39.43                18.0       1860.0           409.0   \n",
      "20639    -121.24     39.37                16.0       2785.0           616.0   \n",
      "\n",
      "       population  households  median_income  median_house_value  \\\n",
      "0           322.0       126.0         8.3252            452600.0   \n",
      "1          2401.0      1138.0         8.3014            358500.0   \n",
      "2           496.0       177.0         7.2574            352100.0   \n",
      "3           558.0       219.0         5.6431            341300.0   \n",
      "4           565.0       259.0         3.8462            342200.0   \n",
      "...           ...         ...            ...                 ...   \n",
      "20635       845.0       330.0         1.5603             78100.0   \n",
      "20636       356.0       114.0         2.5568             77100.0   \n",
      "20637      1007.0       433.0         1.7000             92300.0   \n",
      "20638       741.0       349.0         1.8672             84700.0   \n",
      "20639      1387.0       530.0         2.3886             89400.0   \n",
      "\n",
      "      ocean_proximity  \n",
      "0            NEAR BAY  \n",
      "1            NEAR BAY  \n",
      "2            NEAR BAY  \n",
      "3            NEAR BAY  \n",
      "4            NEAR BAY  \n",
      "...               ...  \n",
      "20635          INLAND  \n",
      "20636          INLAND  \n",
      "20637          INLAND  \n",
      "20638          INLAND  \n",
      "20639          INLAND  \n",
      "\n",
      "[19746 rows x 10 columns]\n"
     ]
    }
   ],
   "source": [
    "# Remove the outliers from the DataFrame\n",
    "california_housing_prices_df = california_housing_prices_df.drop(outlier_indices)\n",
    "\n",
    "# Print the DataFrame\n",
    "print(california_housing_prices_df)"
   ]
  },
  {
   "cell_type": "markdown",
   "metadata": {},
   "source": [
    "This code will create a histogram and boxplot of the total_bedrooms column in the california_housing_prices_df DataFrame. You can then inspect the histogram and boxplot to identify any outliers.\n",
    "\n",
    "Outliers are typically data points that fall outside of the normal distribution. In a histogram, outliers will appear as data points that are far away from the center of the distribution. In a boxplot, outliers will appear as data points that are outside of the whiskers.\n",
    "\n",
    "Once you have identified any outliers, you can further investigate them to determine whether or not they are truly outliers. You can also use domain knowledge to determine whether or not an outlier is truly an outlier.\n",
    "\n",
    "For example, in the histogram of the total_bedrooms column, there is an outlier at around 10 bedrooms. This is likely a valid outlier, as there are very few houses in the California housing prices dataset with 10 bedrooms.\n",
    "\n",
    "However, in the boxplot of the total_bedrooms column, there is an outlier at around 4 bedrooms. This may or may not be a valid outlier. It is possible that there are a few houses in the California housing prices dataset with 4 bedrooms that are located in expensive neighborhoods.\n",
    "\n",
    "To determine whether or not this outlier is truly an outlier, you would need to further investigate it. You could look at the other features of the house, such as the square footage, location, and amenities, to determine whether or not the outlier is valid."
   ]
  },
  {
   "cell_type": "code",
   "execution_count": 16,
   "metadata": {},
   "outputs": [
    {
     "data": {
      "image/png": "[encoded data removed]",
      "text/plain": [
       "<Figure size 432x288 with 1 Axes>"
      ]
     },
     "metadata": {
      "needs_background": "light"
     },
     "output_type": "display_data"
    },
    {
     "data": {
      "image/png": "[encoded data removed]",
      "text/plain": [
       "<Figure size 432x288 with 1 Axes>"
      ]
     },
     "metadata": {
      "needs_background": "light"
     },
     "output_type": "display_data"
    }
   ],
   "source": [
    "# Create a histogram of the total_bedrooms column\n",
    "plt.hist(california_housing_prices_df['total_bedrooms'])\n",
    "plt.xlabel('Total bedrooms')\n",
    "plt.ylabel('Frequency')\n",
    "plt.title('Distribution of total bedrooms')\n",
    "plt.show()\n",
    "\n",
    "# Create a boxplot of the total_bedrooms column\n",
    "plt.boxplot(california_housing_prices_df['total_bedrooms'])\n",
    "plt.xlabel('Total bedrooms')\n",
    "plt.title('Boxplot of total bedrooms')\n",
    "plt.show()"
   ]
  },
  {
   "cell_type": "code",
   "execution_count": 17,
   "metadata": {},
   "outputs": [
    {
     "data": {
      "image/png": "[encoded data removed]",
      "text/plain": [
       "<Figure size 432x288 with 1 Axes>"
      ]
     },
     "metadata": {
      "needs_background": "light"
     },
     "output_type": "display_data"
    }
   ],
   "source": [
    "# Create a histogram of the total_bedrooms column\n",
    "plt.hist(california_housing_prices_df['total_bedrooms'])\n",
    "plt.xlabel('Total bedrooms')\n",
    "plt.ylabel('Frequency')\n",
    "plt.title('Distribution of total bedrooms')\n",
    "plt.show()"
   ]
  },
  {
   "cell_type": "code",
   "execution_count": 18,
   "metadata": {},
   "outputs": [
    {
     "data": {
      "image/png": "[encoded data removed]",
      "text/plain": [
       "<Figure size 432x288 with 1 Axes>"
      ]
     },
     "metadata": {
      "needs_background": "light"
     },
     "output_type": "display_data"
    }
   ],
   "source": [
    "# Create a scatter plot of the total_bedrooms and median_house_value columns\n",
    "plt.scatter(california_housing_prices_df['total_bedrooms'], california_housing_prices_df['median_house_value'])\n",
    "plt.xlabel('Total bedrooms')\n",
    "plt.ylabel('Median house value')\n",
    "plt.title('Scatter plot of total bedrooms vs. median house value')\n",
    "plt.show()"
   ]
  },
  {
   "cell_type": "code",
   "execution_count": null,
   "metadata": {},
   "outputs": [],
   "source": []
  },
  {
   "cell_type": "markdown",
   "metadata": {},
   "source": [
    "### 5. Split the data into training and test sets"
   ]
  },
  {
   "cell_type": "code",
   "execution_count": 19,
   "metadata": {},
   "outputs": [
    {
     "ename": "ValueError",
     "evalue": "Found unknown categories [-124.25, -124.05, -124.03, -123.88, -123.76, -123.63, -123.59, -123.4, -123.04, -118.81, -116.61, -116.58, -116.55, -116.49, -116.41, -116.27, -116.26, -116.08, -116.01, -115.93, -115.75, -115.48, -115.32, -115.22, -114.73, -114.66, -114.64, -114.63, -114.59, -114.56] in column 0 during transform",
     "output_type": "error",
     "traceback": [
      "\u001b[0;31m---------------------------------------------------------------------------\u001b[0m",
      "\u001b[0;31mValueError\u001b[0m                                Traceback (most recent call last)",
      "\u001b[0;32m<ipython-input-19-15b1585edff3>\u001b[0m in \u001b[0;36m<module>\u001b[0;34m\u001b[0m\n\u001b[1;32m     12\u001b[0m \u001b[0;34m\u001b[0m\u001b[0m\n\u001b[1;32m     13\u001b[0m \u001b[0;31m# Transform the test data using the OneHotEncoder object\u001b[0m\u001b[0;34m\u001b[0m\u001b[0;34m\u001b[0m\u001b[0;34m\u001b[0m\u001b[0m\n\u001b[0;32m---> 14\u001b[0;31m \u001b[0mX_test_encoded\u001b[0m \u001b[0;34m=\u001b[0m \u001b[0mone_hot_encoder\u001b[0m\u001b[0;34m.\u001b[0m\u001b[0mtransform\u001b[0m\u001b[0;34m(\u001b[0m\u001b[0mX_test\u001b[0m\u001b[0;34m)\u001b[0m\u001b[0;34m\u001b[0m\u001b[0;34m\u001b[0m\u001b[0m\n\u001b[0m",
      "\u001b[0;32m/opt/anaconda3/lib/python3.8/site-packages/sklearn/preprocessing/_encoders.py\u001b[0m in \u001b[0;36mtransform\u001b[0;34m(self, X)\u001b[0m\n\u001b[1;32m    426\u001b[0m         \u001b[0mcheck_is_fitted\u001b[0m\u001b[0;34m(\u001b[0m\u001b[0mself\u001b[0m\u001b[0;34m)\u001b[0m\u001b[0;34m\u001b[0m\u001b[0;34m\u001b[0m\u001b[0m\n\u001b[1;32m    427\u001b[0m         \u001b[0;31m# validation of X happens in _check_X called by _transform\u001b[0m\u001b[0;34m\u001b[0m\u001b[0;34m\u001b[0m\u001b[0;34m\u001b[0m\u001b[0m\n\u001b[0;32m--> 428\u001b[0;31m         \u001b[0mX_int\u001b[0m\u001b[0;34m,\u001b[0m \u001b[0mX_mask\u001b[0m \u001b[0;34m=\u001b[0m \u001b[0mself\u001b[0m\u001b[0;34m.\u001b[0m\u001b[0m_transform\u001b[0m\u001b[0;34m(\u001b[0m\u001b[0mX\u001b[0m\u001b[0;34m,\u001b[0m \u001b[0mhandle_unknown\u001b[0m\u001b[0;34m=\u001b[0m\u001b[0mself\u001b[0m\u001b[0;34m.\u001b[0m\u001b[0mhandle_unknown\u001b[0m\u001b[0;34m)\u001b[0m\u001b[0;34m\u001b[0m\u001b[0;34m\u001b[0m\u001b[0m\n\u001b[0m\u001b[1;32m    429\u001b[0m \u001b[0;34m\u001b[0m\u001b[0m\n\u001b[1;32m    430\u001b[0m         \u001b[0mn_samples\u001b[0m\u001b[0;34m,\u001b[0m \u001b[0mn_features\u001b[0m \u001b[0;34m=\u001b[0m \u001b[0mX_int\u001b[0m\u001b[0;34m.\u001b[0m\u001b[0mshape\u001b[0m\u001b[0;34m\u001b[0m\u001b[0;34m\u001b[0m\u001b[0m\n",
      "\u001b[0;32m/opt/anaconda3/lib/python3.8/site-packages/sklearn/preprocessing/_encoders.py\u001b[0m in \u001b[0;36m_transform\u001b[0;34m(self, X, handle_unknown)\u001b[0m\n\u001b[1;32m    122\u001b[0m                     msg = (\"Found unknown categories {0} in column {1}\"\n\u001b[1;32m    123\u001b[0m                            \" during transform\".format(diff, i))\n\u001b[0;32m--> 124\u001b[0;31m                     \u001b[0;32mraise\u001b[0m \u001b[0mValueError\u001b[0m\u001b[0;34m(\u001b[0m\u001b[0mmsg\u001b[0m\u001b[0;34m)\u001b[0m\u001b[0;34m\u001b[0m\u001b[0;34m\u001b[0m\u001b[0m\n\u001b[0m\u001b[1;32m    125\u001b[0m                 \u001b[0;32melse\u001b[0m\u001b[0;34m:\u001b[0m\u001b[0;34m\u001b[0m\u001b[0;34m\u001b[0m\u001b[0m\n\u001b[1;32m    126\u001b[0m                     \u001b[0;31m# Set the problematic rows to an acceptable value and\u001b[0m\u001b[0;34m\u001b[0m\u001b[0;34m\u001b[0m\u001b[0;34m\u001b[0m\u001b[0m\n",
      "\u001b[0;31mValueError\u001b[0m: Found unknown categories [-124.25, -124.05, -124.03, -123.88, -123.76, -123.63, -123.59, -123.4, -123.04, -118.81, -116.61, -116.58, -116.55, -116.49, -116.41, -116.27, -116.26, -116.08, -116.01, -115.93, -115.75, -115.48, -115.32, -115.22, -114.73, -114.66, -114.64, -114.63, -114.59, -114.56] in column 0 during transform"
     ]
    }
   ],
   "source": [
    "# Split the dataset into training and test sets\n",
    "X_train, X_test, y_train, y_test = train_test_split(california_housing_prices_df.drop('median_house_value', axis=1), california_housing_prices_df['median_house_value'], test_size=0.25, random_state=42)\n",
    "\n",
    "# Create a OneHotEncoder object\n",
    "one_hot_encoder = OneHotEncoder()\n",
    "\n",
    "# Fit the OneHotEncoder object to the training data\n",
    "one_hot_encoder.fit(X_train)\n",
    "\n",
    "# Transform the training data using the OneHotEncoder object\n",
    "X_train_encoded = one_hot_encoder.transform(X_train)\n",
    "\n",
    "# Transform the test data using the OneHotEncoder object\n",
    "X_test_encoded = one_hot_encoder.transform(X_test)"
   ]
  },
  {
   "cell_type": "markdown",
   "metadata": {},
   "source": [
    "### 6. Choose a machine learning algorithm"
   ]
  },
  {
   "cell_type": "code",
   "execution_count": null,
   "metadata": {},
   "outputs": [],
   "source": [
    "# Fit the DecisionTreeClassifier object to the training data\n",
    "decision_tree_classifier.fit(X_train_encoded, y_train)"
   ]
  },
  {
   "cell_type": "markdown",
   "metadata": {},
   "source": [
    "### 7. Train the machine learning model"
   ]
  },
  {
   "cell_type": "code",
   "execution_count": null,
   "metadata": {},
   "outputs": [],
   "source": [
    "# Make predictions on the test data\n",
    "y_pred = decision_tree_classifier.predict(X_test_encoded)\n",
    "\n",
    "# Evaluate the model\n",
    "accuracy = decision_tree_classifier.score(X_test_encoded, y_test)\n",
    "print('Accuracy:', accuracy)"
   ]
  },
  {
   "cell_type": "markdown",
   "metadata": {},
   "source": [
    "### 8. Evaluate the model"
   ]
  },
  {
   "cell_type": "code",
   "execution_count": null,
   "metadata": {},
   "outputs": [],
   "source": []
  },
  {
   "cell_type": "markdown",
   "metadata": {},
   "source": [
    "### 9. Deploy the model"
   ]
  },
  {
   "cell_type": "code",
   "execution_count": null,
   "metadata": {},
   "outputs": [],
   "source": []
  },
  {
   "cell_type": "code",
   "execution_count": null,
   "metadata": {},
   "outputs": [],
   "source": []
  },
  {
   "cell_type": "code",
   "execution_count": null,
   "metadata": {},
   "outputs": [],
   "source": []
  },
  {
   "cell_type": "code",
   "execution_count": null,
   "metadata": {},
   "outputs": [],
   "source": []
  },
  {
   "cell_type": "code",
   "execution_count": null,
   "metadata": {},
   "outputs": [],
   "source": []
  },
  {
   "cell_type": "code",
   "execution_count": null,
   "metadata": {},
   "outputs": [],
   "source": []
  },
  {
   "cell_type": "code",
   "execution_count": null,
   "metadata": {},
   "outputs": [],
   "source": []
  },
  {
   "cell_type": "code",
   "execution_count": null,
   "metadata": {},
   "outputs": [],
   "source": []
  },
  {
   "cell_type": "code",
   "execution_count": null,
   "metadata": {},
   "outputs": [],
   "source": []
  },
  {
   "cell_type": "code",
   "execution_count": null,
   "metadata": {},
   "outputs": [],
   "source": []
  },
  {
   "cell_type": "code",
   "execution_count": null,
   "metadata": {},
   "outputs": [],
   "source": []
  },
  {
   "cell_type": "code",
   "execution_count": null,
   "metadata": {},
   "outputs": [],
   "source": []
  },
  {
   "cell_type": "code",
   "execution_count": null,
   "metadata": {},
   "outputs": [],
   "source": []
  },
  {
   "cell_type": "code",
   "execution_count": null,
   "metadata": {},
   "outputs": [],
   "source": []
  },
  {
   "cell_type": "code",
   "execution_count": null,
   "metadata": {},
   "outputs": [],
   "source": []
  },
  {
   "cell_type": "code",
   "execution_count": null,
   "metadata": {},
   "outputs": [],
   "source": []
  },
  {
   "cell_type": "code",
   "execution_count": null,
   "metadata": {},
   "outputs": [],
   "source": []
  },
  {
   "cell_type": "code",
   "execution_count": null,
   "metadata": {},
   "outputs": [],
   "source": []
  }
 ],
 "metadata": {
  "kernelspec": {
   "display_name": "Python 3",
   "language": "python",
   "name": "python3"
  },
  "language_info": {
   "codemirror_mode": {
    "name": "ipython",
    "version": 3
   },
   "file_extension": ".py",
   "mimetype": "text/x-python",
   "name": "python",
   "nbconvert_exporter": "python",
   "pygments_lexer": "ipython3",
   "version": "3.8.5"
  }
 },
 "nbformat": 4,
 "nbformat_minor": 4
}
